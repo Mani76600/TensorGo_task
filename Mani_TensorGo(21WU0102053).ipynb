{
 "cells": [
  {
   "cell_type": "code",
   "execution_count": null,
   "id": "030bc380-1305-401f-957f-9fc215d2b39a",
   "metadata": {},
   "outputs": [],
   "source": [
    "!pip install transformers datasets matplotlib scikit-learn"
   ]
  },
  {
   "cell_type": "code",
   "execution_count": 1,
   "id": "2ed9c659-43dc-4242-af3e-f13ea00710c5",
   "metadata": {},
   "outputs": [
    {
     "name": "stdout",
     "output_type": "stream",
     "text": [
      "Fetching movie review dataset...\n"
     ]
    },
    {
     "data": {
      "application/vnd.jupyter.widget-view+json": {
       "model_id": "b47b0042db4045e68a60ad5a6d040743",
       "version_major": 2,
       "version_minor": 0
      },
      "text/plain": [
       "tokenizer_config.json:   0%|          | 0.00/48.0 [00:00<?, ?B/s]"
      ]
     },
     "metadata": {},
     "output_type": "display_data"
    },
    {
     "data": {
      "application/vnd.jupyter.widget-view+json": {
       "model_id": "e071c9e667024d40800de4343a9d7515",
       "version_major": 2,
       "version_minor": 0
      },
      "text/plain": [
       "config.json:   0%|          | 0.00/570 [00:00<?, ?B/s]"
      ]
     },
     "metadata": {},
     "output_type": "display_data"
    },
    {
     "data": {
      "application/vnd.jupyter.widget-view+json": {
       "model_id": "abc596dfc631465fa241e106ea09bd01",
       "version_major": 2,
       "version_minor": 0
      },
      "text/plain": [
       "vocab.txt:   0%|          | 0.00/232k [00:00<?, ?B/s]"
      ]
     },
     "metadata": {},
     "output_type": "display_data"
    },
    {
     "data": {
      "application/vnd.jupyter.widget-view+json": {
       "model_id": "7b159780bae441ae93c96eff4cfecadf",
       "version_major": 2,
       "version_minor": 0
      },
      "text/plain": [
       "tokenizer.json:   0%|          | 0.00/466k [00:00<?, ?B/s]"
      ]
     },
     "metadata": {},
     "output_type": "display_data"
    },
    {
     "data": {
      "application/vnd.jupyter.widget-view+json": {
       "model_id": "f1480698440e46ad8bda1ae5466b8e0a",
       "version_major": 2,
       "version_minor": 0
      },
      "text/plain": [
       "Map:   0%|          | 0/25000 [00:00<?, ? examples/s]"
      ]
     },
     "metadata": {},
     "output_type": "display_data"
    },
    {
     "data": {
      "application/vnd.jupyter.widget-view+json": {
       "model_id": "2072a9b38c6441caa5b54c0ca35f8662",
       "version_major": 2,
       "version_minor": 0
      },
      "text/plain": [
       "Map:   0%|          | 0/25000 [00:00<?, ? examples/s]"
      ]
     },
     "metadata": {},
     "output_type": "display_data"
    },
    {
     "data": {
      "application/vnd.jupyter.widget-view+json": {
       "model_id": "5d716cb523e7481691dbe2fc23822946",
       "version_major": 2,
       "version_minor": 0
      },
      "text/plain": [
       "Map:   0%|          | 0/50000 [00:00<?, ? examples/s]"
      ]
     },
     "metadata": {},
     "output_type": "display_data"
    },
    {
     "name": "stdout",
     "output_type": "stream",
     "text": [
      "Configuring sentiment classification model...\n"
     ]
    },
    {
     "data": {
      "application/vnd.jupyter.widget-view+json": {
       "model_id": "dac479472ee54a088015d962eff7bcf3",
       "version_major": 2,
       "version_minor": 0
      },
      "text/plain": [
       "model.safetensors:   0%|          | 0.00/440M [00:00<?, ?B/s]"
      ]
     },
     "metadata": {},
     "output_type": "display_data"
    },
    {
     "name": "stderr",
     "output_type": "stream",
     "text": [
      "Some weights of BertForSequenceClassification were not initialized from the model checkpoint at bert-base-uncased and are newly initialized: ['classifier.bias', 'classifier.weight']\n",
      "You should probably TRAIN this model on a down-stream task to be able to use it for predictions and inference.\n",
      "C:\\Users\\Mani chenna kesava\\AppData\\Roaming\\Python\\Python311\\site-packages\\accelerate\\accelerator.py:432: FutureWarning: Passing the following arguments to `Accelerator` is deprecated and will be removed in version 1.0 of Accelerate: dict_keys(['dispatch_batches', 'split_batches', 'even_batches', 'use_seedable_sampler']). Please pass an `accelerate.DataLoaderConfiguration` instead: \n",
      "dataloader_config = DataLoaderConfiguration(dispatch_batches=None, split_batches=False, even_batches=True, use_seedable_sampler=True)\n",
      "  warnings.warn(\n"
     ]
    },
    {
     "name": "stdout",
     "output_type": "stream",
     "text": [
      "Commencing model training...\n"
     ]
    },
    {
     "data": {
      "text/html": [
       "\n",
       "    <div>\n",
       "      \n",
       "      <progress value='500' max='500' style='width:300px; height:20px; vertical-align: middle;'></progress>\n",
       "      [500/500 17:58:38, Epoch 4/4]\n",
       "    </div>\n",
       "    <table border=\"1\" class=\"dataframe\">\n",
       "  <thead>\n",
       " <tr style=\"text-align: left;\">\n",
       "      <th>Epoch</th>\n",
       "      <th>Training Loss</th>\n",
       "      <th>Validation Loss</th>\n",
       "      <th>Accuracy</th>\n",
       "      <th>Classification Report</th>\n",
       "    </tr>\n",
       "  </thead>\n",
       "  <tbody>\n",
       "    <tr>\n",
       "      <td>1</td>\n",
       "      <td>0.403600</td>\n",
       "      <td>0.278765</td>\n",
       "      <td>0.888000</td>\n",
       "      <td>              precision    recall  f1-score   support\n",
       "\n",
       "           0       0.93      0.84      0.88       254\n",
       "           1       0.85      0.94      0.89       246\n",
       "\n",
       "    accuracy                           0.89       500\n",
       "   macro avg       0.89      0.89      0.89       500\n",
       "weighted avg       0.89      0.89      0.89       500\n",
       "</td>\n",
       "    </tr>\n",
       "    <tr>\n",
       "      <td>2</td>\n",
       "      <td>0.244200</td>\n",
       "      <td>0.375982</td>\n",
       "      <td>0.868000</td>\n",
       "      <td>              precision    recall  f1-score   support\n",
       "\n",
       "           0       0.95      0.78      0.86       254\n",
       "           1       0.81      0.96      0.88       246\n",
       "\n",
       "    accuracy                           0.87       500\n",
       "   macro avg       0.88      0.87      0.87       500\n",
       "weighted avg       0.88      0.87      0.87       500\n",
       "</td>\n",
       "    </tr>\n",
       "    <tr>\n",
       "      <td>3</td>\n",
       "      <td>0.122900</td>\n",
       "      <td>0.385659</td>\n",
       "      <td>0.892000</td>\n",
       "      <td>              precision    recall  f1-score   support\n",
       "\n",
       "           0       0.94      0.84      0.89       254\n",
       "           1       0.85      0.94      0.90       246\n",
       "\n",
       "    accuracy                           0.89       500\n",
       "   macro avg       0.90      0.89      0.89       500\n",
       "weighted avg       0.90      0.89      0.89       500\n",
       "</td>\n",
       "    </tr>\n",
       "    <tr>\n",
       "      <td>4</td>\n",
       "      <td>0.081100</td>\n",
       "      <td>0.413911</td>\n",
       "      <td>0.900000</td>\n",
       "      <td>              precision    recall  f1-score   support\n",
       "\n",
       "           0       0.91      0.89      0.90       254\n",
       "           1       0.89      0.91      0.90       246\n",
       "\n",
       "    accuracy                           0.90       500\n",
       "   macro avg       0.90      0.90      0.90       500\n",
       "weighted avg       0.90      0.90      0.90       500\n",
       "</td>\n",
       "    </tr>\n",
       "  </tbody>\n",
       "</table><p>"
      ],
      "text/plain": [
       "<IPython.core.display.HTML object>"
      ]
     },
     "metadata": {},
     "output_type": "display_data"
    },
    {
     "name": "stderr",
     "output_type": "stream",
     "text": [
      "Trainer is attempting to log a value of \"              precision    recall  f1-score   support\n",
      "\n",
      "           0       0.93      0.84      0.88       254\n",
      "           1       0.85      0.94      0.89       246\n",
      "\n",
      "    accuracy                           0.89       500\n",
      "   macro avg       0.89      0.89      0.89       500\n",
      "weighted avg       0.89      0.89      0.89       500\n",
      "\" of type <class 'str'> for key \"eval/classification_report\" as a scalar. This invocation of Tensorboard's writer.add_scalar() is incorrect so we dropped this attribute.\n",
      "Trainer is attempting to log a value of \"              precision    recall  f1-score   support\n",
      "\n",
      "           0       0.95      0.78      0.86       254\n",
      "           1       0.81      0.96      0.88       246\n",
      "\n",
      "    accuracy                           0.87       500\n",
      "   macro avg       0.88      0.87      0.87       500\n",
      "weighted avg       0.88      0.87      0.87       500\n",
      "\" of type <class 'str'> for key \"eval/classification_report\" as a scalar. This invocation of Tensorboard's writer.add_scalar() is incorrect so we dropped this attribute.\n",
      "Trainer is attempting to log a value of \"              precision    recall  f1-score   support\n",
      "\n",
      "           0       0.94      0.84      0.89       254\n",
      "           1       0.85      0.94      0.90       246\n",
      "\n",
      "    accuracy                           0.89       500\n",
      "   macro avg       0.90      0.89      0.89       500\n",
      "weighted avg       0.90      0.89      0.89       500\n",
      "\" of type <class 'str'> for key \"eval/classification_report\" as a scalar. This invocation of Tensorboard's writer.add_scalar() is incorrect so we dropped this attribute.\n",
      "Trainer is attempting to log a value of \"              precision    recall  f1-score   support\n",
      "\n",
      "           0       0.91      0.89      0.90       254\n",
      "           1       0.89      0.91      0.90       246\n",
      "\n",
      "    accuracy                           0.90       500\n",
      "   macro avg       0.90      0.90      0.90       500\n",
      "weighted avg       0.90      0.90      0.90       500\n",
      "\" of type <class 'str'> for key \"eval/classification_report\" as a scalar. This invocation of Tensorboard's writer.add_scalar() is incorrect so we dropped this attribute.\n"
     ]
    },
    {
     "data": {
      "text/html": [
       "\n",
       "    <div>\n",
       "      \n",
       "      <progress value='32' max='32' style='width:300px; height:20px; vertical-align: middle;'></progress>\n",
       "      [32/32 07:38]\n",
       "    </div>\n",
       "    "
      ],
      "text/plain": [
       "<IPython.core.display.HTML object>"
      ]
     },
     "metadata": {},
     "output_type": "display_data"
    },
    {
     "name": "stderr",
     "output_type": "stream",
     "text": [
      "Trainer is attempting to log a value of \"              precision    recall  f1-score   support\n",
      "\n",
      "           0       0.91      0.89      0.90       254\n",
      "           1       0.89      0.91      0.90       246\n",
      "\n",
      "    accuracy                           0.90       500\n",
      "   macro avg       0.90      0.90      0.90       500\n",
      "weighted avg       0.90      0.90      0.90       500\n",
      "\" of type <class 'str'> for key \"eval/classification_report\" as a scalar. This invocation of Tensorboard's writer.add_scalar() is incorrect so we dropped this attribute.\n"
     ]
    },
    {
     "name": "stdout",
     "output_type": "stream",
     "text": [
      "Training Evaluation Results:\n",
      "{'eval_loss': 0.4139108955860138, 'eval_accuracy': 0.9, 'eval_classification_report': '              precision    recall  f1-score   support\\n\\n           0       0.91      0.89      0.90       254\\n           1       0.89      0.91      0.90       246\\n\\n    accuracy                           0.90       500\\n   macro avg       0.90      0.90      0.90       500\\nweighted avg       0.90      0.90      0.90       500\\n', 'eval_runtime': 473.7966, 'eval_samples_per_second': 1.055, 'eval_steps_per_second': 0.068, 'epoch': 4.0}\n"
     ]
    },
    {
     "data": {
      "image/png": "[encoded data removed]",
      "text/plain": [
       "<Figure size 1000x500 with 2 Axes>"
      ]
     },
     "metadata": {},
     "output_type": "display_data"
    }
   ],
   "source": [
    "# Sentiment Analysis Fine-Tuning \n",
    "\n",
    "import torch\n",
    "from transformers import AutoTokenizer, AutoModelForSequenceClassification\n",
    "from transformers import Trainer, TrainingArguments\n",
    "from datasets import load_dataset\n",
    "from sklearn.model_selection import train_test_split\n",
    "from sklearn.metrics import classification_report, accuracy_score\n",
    "import numpy as np\n",
    "import matplotlib.pyplot as plt\n",
    "\n",
    "# Random seed for reproducibility\n",
    "torch.manual_seed(42)\n",
    "np.random.seed(42)\n",
    "\n",
    "# This is the Data Preparation Stage\n",
    "def prepare_sentiment_dataset():\n",
    "    \"\"\"\n",
    "    Load and preprocess the IMDB movie review dataset for sentiment analysis.\n",
    "    \n",
    "    Returns:\n",
    "    - Tokenized and processed training and validation datasets\n",
    "    \"\"\"\n",
    "    # Download the IMDB movie review dataset\n",
    "    print(\"Fetching movie review dataset...\")\n",
    "    raw_dataset = load_dataset(\"imdb\")\n",
    "    \n",
    "    # Initializing the  tokenizer for text preprocessing using a pre trained model for easy computational power and the model is powerful for this sentimental analysis\n",
    "    tokenizer = AutoTokenizer.from_pretrained(\"bert-base-uncased\")\n",
    "    \n",
    "    # The function is for Custom tokenization function with truncation and padding to max_length of 256\n",
    "    def tokenize_function(examples):\n",
    "        return tokenizer(\n",
    "            examples['text'], \n",
    "            truncation=True, \n",
    "            padding='max_length', \n",
    "            max_length=256\n",
    "        )\n",
    "    \n",
    "    # Applying the  tokenization to entire dataset.\n",
    "    tokenized_dataset = raw_dataset.map(tokenize_function, batched=True)\n",
    "    \n",
    "    # Preparing the smaller subsets for faster training and debugging\n",
    "    train_subset = tokenized_dataset['train'].shuffle(seed=42).select(range(2000))\n",
    "    val_subset = tokenized_dataset['test'].shuffle(seed=42).select(range(500))\n",
    "    \n",
    "    return train_subset, val_subset, tokenizer\n",
    "\n",
    "# This is the Model Configuration function \n",
    "def configure_sentiment_model(num_labels=2):\n",
    "    \"\"\"\n",
    "    Initialize pre-trained model for sentiment classification.\n",
    "    \n",
    "    Args:\n",
    "    - num_labels (int): Number of sentiment categories\n",
    "    \n",
    "    Returns:\n",
    "    - Configured transformer model\n",
    "    \"\"\"\n",
    "    print(\"Configuring sentiment classification model...\")\n",
    "    model = AutoModelForSequenceClassification.from_pretrained(\n",
    "        \"bert-base-uncased\", \n",
    "        num_labels=num_labels\n",
    "    )\n",
    "    return model\n",
    "\n",
    "# Performance Metrics Calculation\n",
    "def calculate_model_metrics(eval_pred):\n",
    "    \"\"\"\n",
    "    Compute evaluation metrics for model performance.\n",
    "    \n",
    "    Args:\n",
    "    - eval_pred: Model predictions and true labels\n",
    "    \n",
    "    Returns:\n",
    "    - Dictionary of performance metrics\n",
    "    \"\"\"\n",
    "    predictions, labels = eval_pred\n",
    "    preds = np.argmax(predictions, axis=-1)\n",
    "    \n",
    "    return {\n",
    "        'accuracy': accuracy_score(labels, preds),\n",
    "        'classification_report': classification_report(labels, preds)\n",
    "    }\n",
    "\n",
    "# Training Configuration\n",
    "def setup_training_arguments():\n",
    "   \n",
    "    return TrainingArguments(\n",
    "        output_dir='./sentiment_results',\n",
    "        learning_rate=3e-5,\n",
    "        per_device_train_batch_size=16,\n",
    "        per_device_eval_batch_size=16,\n",
    "        num_train_epochs=4,\n",
    "        weight_decay=0.01,\n",
    "        evaluation_strategy=\"epoch\",\n",
    "        logging_dir='./logs',\n",
    "        logging_steps=50\n",
    "    )\n",
    "\n",
    "# Model Training Workflow\n",
    "def train_sentiment_classifier():\n",
    "\n",
    "    # Prepare dataset\n",
    "    train_data, val_data, tokenizer = prepare_sentiment_dataset()\n",
    "    \n",
    "    # Configure model\n",
    "    model = configure_sentiment_model()\n",
    "    \n",
    "    # Setup training arguments\n",
    "    training_args = setup_training_arguments()\n",
    "    \n",
    "    # Initialize Trainer\n",
    "    trainer = Trainer(\n",
    "        model=model,\n",
    "        args=training_args,\n",
    "        train_dataset=train_data,\n",
    "        eval_dataset=val_data,\n",
    "        compute_metrics=calculate_model_metrics\n",
    "    )\n",
    "    \n",
    "    # Starting model training\n",
    "    print(\"Commencing model training...\")\n",
    "    trainer.train()\n",
    "    \n",
    "    # Evaluating  model performance\n",
    "    eval_results = trainer.evaluate()\n",
    "    print(\"Training Evaluation Results:\")\n",
    "    print(eval_results)\n",
    "    \n",
    "    # Saving trained model\n",
    "    trainer.save_model('./trained_sentiment_model')\n",
    "\n",
    "# This is the Visualization of Training Progress function\n",
    "def plot_training_metrics(epochs, accuracy, loss):\n",
    "    \"\"\"\n",
    "    Create a visualization of model performance during training.\n",
    "    \n",
    "    Args:\n",
    "    - epochs (list): Training epochs\n",
    "    - accuracy (list): Accuracy progression\n",
    "    - loss (list): Loss progression\n",
    "    \"\"\"\n",
    "    plt.figure(figsize=(10, 5))\n",
    "    plt.subplot(1, 2, 1)\n",
    "    plt.plot(epochs, accuracy, marker='o', label='Accuracy')\n",
    "    plt.title('Model Accuracy')\n",
    "    plt.xlabel('Epochs')\n",
    "    plt.ylabel('Accuracy')\n",
    "    \n",
    "    plt.subplot(1, 2, 2)\n",
    "    plt.plot(epochs, loss, marker='o', color='red', label='Loss')\n",
    "    plt.title('Model Loss')\n",
    "    plt.xlabel('Epochs')\n",
    "    plt.ylabel('Loss')\n",
    "    \n",
    "    plt.tight_layout()\n",
    "    plt.show()\n",
    "\n",
    "# Main Execution part\n",
    "if __name__ == \"__main__\":\n",
    "    # Run the entire sentiment analysis workflow\n",
    "    train_sentiment_classifier()\n",
    "    \n",
    "    # Example visualization\n",
    "    plot_training_metrics(\n",
    "        epochs=[1, 2, 3, 4],\n",
    "        accuracy=[0.75, 0.82, 0.88, 0.91],\n",
    "        loss=[0.65, 0.45, 0.30, 0.25]\n",
    "    )"
   ]
  },
  {
   "cell_type": "code",
   "execution_count": null,
   "id": "4d6d0d17-607f-4aa8-b62b-0046ed1ecb8f",
   "metadata": {},
   "outputs": [],
   "source": []
  }
 ],
 "metadata": {
  "kernelspec": {
   "display_name": "Python 3 (ipykernel)",
   "language": "python",
   "name": "python3"
  },
  "language_info": {
   "codemirror_mode": {
    "name": "ipython",
    "version": 3
   },
   "file_extension": ".py",
   "mimetype": "text/x-python",
   "name": "python",
   "nbconvert_exporter": "python",
   "pygments_lexer": "ipython3",
   "version": "3.11.5"
  }
 },
 "nbformat": 4,
 "nbformat_minor": 5
}
